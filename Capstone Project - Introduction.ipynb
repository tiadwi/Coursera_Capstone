{
 "cells": [
  {
   "cell_type": "markdown",
   "metadata": {
    "collapsed": true
   },
   "source": [
    "## Introduction"
   ]
  },
  {
   "cell_type": "markdown",
   "metadata": {},
   "source": [
    "People are migrating to many different states of Canada and need a lot of research for housing prices, reputed schools for their children, supermarkets nearby, park, and caffe or restaurant nearby. This project is for those people who are looking for better neighborhoods. For ease of access to the school, supermarket, medical shops, grocery shops, mall, theatre, hospital, caffe, etc. \n",
    "\n",
    "This project intends to create an analysis of features for people who are migrating to Toronto in search of the best neighborhood as a relative analysis between neighborhoods. It will help people to get the awareness of the area and neighborhood before moving to a new city, state, country or place for their work or to start a new fresh life.\n",
    "\n",
    "The main objective of this project is to help people in exploring better facilities around their neighborhood. It will help people in making a smart and efficient decision on choosing excellent neighborhoods out of numbers of other neighborhoods in Toronto, Canada. Thus, we can see the correlation between neighborhoods and the housing price in the area.\n"
   ]
  },
  {
   "cell_type": "markdown",
   "metadata": {},
   "source": [
    "## Problems\n"
   ]
  },
  {
   "cell_type": "markdown",
   "metadata": {},
   "source": [
    "This project will try to explore the neighborhoods of Toronto Canada to see:\n",
    "- if the surrounding venues can effect the price of real estates?\n",
    "- what kind of surrounding venues in te area? \n",
    "    - if we can use the surrounding venue to estimate the value of an accommodation over the average price of one area? \n",
    "    - And to what degree of confidence?\n",
    "    \n",
    "The major goal of this project is to recommend a better neighborhood in a new city for people moving there. Connectivity to the airport, bus stand, city center, markets and other daily needs things nearby.\n"
   ]
  },
  {
   "cell_type": "markdown",
   "metadata": {},
   "source": [
    "## Description of The Data"
   ]
  },
  {
   "cell_type": "markdown",
   "metadata": {},
   "source": [
    "The main data used for this project will be from two sources:\n",
    "\n",
    "- Scraping from the Wikipedia page: https://en.wikipedia.org/wiki/List_of_postal_codes_of_Canada:_M, consist of a list of postal codes in Canada with other two columns: borough and neighborhood. Then the data was transformed to a dataframe.\n",
    "- Geographical coordinate to get the longitude and latitude of Toronto city, taken from: ('http://cocl.us/Geospatial_data')\n",
    "- The venues in each neighborhood using FourSquare API ('https://api.foursquare.com/v2/venues/explore?&client_id={}&client_secret={}&v={}&ll={},{}&radius={}&limit={}')\n"
   ]
  },
  {
   "cell_type": "markdown",
   "metadata": {},
   "source": [
    "## Workflows"
   ]
  },
  {
   "cell_type": "markdown",
   "metadata": {},
   "source": [
    "- Scrapping the data from Wikipedia\n",
    "- Transfrom the data into pandas dataframe\n",
    "- Read the geospatial data from ('http://cocl.us/Geospatial_data')\n",
    "- Merge the dataframe from wikipedia and the geospatial data\n",
    "- Explore neighborhood in Toronto using foursquare API\n",
    "- List top 10 venues in Toronto Canada\n",
    "- Cluster the neighborhoods using KMeans Clustering with k_cluster=3.\n",
    "- Analyze the cluster"
   ]
  },
  {
   "cell_type": "code",
   "execution_count": null,
   "metadata": {},
   "outputs": [],
   "source": []
  }
 ],
 "metadata": {
  "kernelspec": {
   "display_name": "Python 3",
   "language": "python",
   "name": "python3"
  },
  "language_info": {
   "codemirror_mode": {
    "name": "ipython",
    "version": 3
   },
   "file_extension": ".py",
   "mimetype": "text/x-python",
   "name": "python",
   "nbconvert_exporter": "python",
   "pygments_lexer": "ipython3",
   "version": "3.7.1"
  }
 },
 "nbformat": 4,
 "nbformat_minor": 1
}
